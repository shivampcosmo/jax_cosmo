{
 "cells": [
  {
   "cell_type": "code",
   "execution_count": 1,
   "metadata": {},
   "outputs": [
    {
     "name": "stdout",
     "output_type": "stream",
     "text": [
      "Populating the interactive namespace from numpy and matplotlib\n"
     ]
    },
    {
     "name": "stderr",
     "output_type": "stream",
     "text": [
      "/local/home/flanusse/.local/lib/python3.8/site-packages/jax/experimental/optimizers.py:28: FutureWarning: jax.experimental.optimizers is deprecated, import jax.example_libraries.optimizers instead\n",
      "  warnings.warn('jax.experimental.optimizers is deprecated, '\n",
      "/local/home/flanusse/.local/lib/python3.8/site-packages/jax/experimental/stax.py:28: FutureWarning: jax.experimental.stax is deprecated, import jax.example_libraries.stax instead\n",
      "  warnings.warn('jax.experimental.stax is deprecated, '\n"
     ]
    }
   ],
   "source": [
    "%pylab inline\n",
    "import os\n",
    "import jax\n",
    "import jax.numpy as np\n",
    "import jax_cosmo as jc\n",
    "import numpyro\n",
    "import numpyro.distributions as dist"
   ]
  },
  {
   "cell_type": "code",
   "execution_count": 2,
   "metadata": {},
   "outputs": [],
   "source": [
    "# Let's grab the data file\n",
    "from astropy.io import fits\n",
    "if not os.path.isfile('2pt_NG_mcal_1110.fits'):\n",
    "    !wget http://desdr-server.ncsa.illinois.edu/despublic/y1a1_files/chains/2pt_NG_mcal_1110.fits\n",
    "\n",
    "nz_source=fits.getdata('2pt_NG_mcal_1110.fits', 6)\n",
    "nz_lens=fits.getdata('2pt_NG_mcal_1110.fits', 7)\n",
    "\n",
    "# This is the effective number of sources from the cosmic shear paper\n",
    "neff_s = [1.47, 1.46, 1.50, 0.73]\n",
    "nzs_s = [jc.redshift.kde_nz(nz_source['Z_MID'].astype('float32'),\n",
    "                            nz_source['BIN%d'%i].astype('float32'), \n",
    "                            bw=0.01,\n",
    "                            gals_per_arcmin2=neff_s[i-1])\n",
    "           for i in range(1,5)]\n",
    "nzs_l = [jc.redshift.kde_nz(nz_lens['Z_MID'].astype('float32'),\n",
    "                            nz_lens['BIN%d'%i].astype('float32'), bw=0.01)\n",
    "        for i in range(1,6)]\n",
    "\n",
    "# Define some ell range\n",
    "ell = np.logspace(1, 3)"
   ]
  },
  {
   "cell_type": "code",
   "execution_count": 3,
   "metadata": {},
   "outputs": [],
   "source": [
    "# Let's define our model using numpyro\n",
    "# Papier https://arxiv.org/pdf/1708.01530.pdf  and desy1.py\n",
    "def model():\n",
    "    #  Cosmological params\n",
    "    Omega_c = numpyro.sample('Omega_c', dist.Uniform(0.1, 0.9))\n",
    "    sigma8 = numpyro.sample('sigma8', dist.Uniform(0.4, 1.0))\n",
    "    Omega_b = numpyro.sample('Omega_b', dist.Uniform(0.03, 0.07))\n",
    "    h = numpyro.sample('h', dist.Uniform(0.55, 0.91))\n",
    "    n_s = numpyro.sample('n_s', dist.Uniform(0.87, 1.07)) \n",
    "    w0 = numpyro.sample('w0', dist.Uniform(-2.0, -0.33))\n",
    "\n",
    "    # Intrinsic Alignment\n",
    "    A = numpyro.sample('A', dist.Uniform(-5., 5.))\n",
    "    eta = numpyro.sample('eta', dist.Uniform(-5., 5.))\n",
    "\n",
    "    # linear galaxy bias\n",
    "    bias = [numpyro.sample('b%d'%i, dist.Uniform(0.8, 3.0)) \n",
    "         for i in range(1,6)]\n",
    "        \n",
    "    # parameters for systematics\n",
    "    m = [numpyro.sample('m%d'%i, dist.Normal(0.012, 0.023)) \n",
    "         for i in range(1,5)]\n",
    "    dz1 = numpyro.sample('dz1', dist.Normal(0.001, 0.016)) \n",
    "    dz2 = numpyro.sample('dz2', dist.Normal(-0.019, 0.013)) \n",
    "    dz3 = numpyro.sample('dz3', dist.Normal(0.009, 0.011)) \n",
    "    dz4 = numpyro.sample('dz4', dist.Normal(-0.018, 0.022)) \n",
    "    dz = [dz1, dz2, dz3, dz4]\n",
    "    \n",
    "    # Now that params are defined, here is the forward model\n",
    "    cosmo = jc.Cosmology(Omega_c=Omega_c, sigma8=sigma8, Omega_b=Omega_b,\n",
    "                          h=h, n_s=n_s, w0=w0, Omega_k=0., wa=0.)\n",
    "    \n",
    "    # Build source nz with redshift systematic bias\n",
    "    nzs_s_sys = [jc.redshift.systematic_shift(nzi, dzi, zmax=2.0) \n",
    "                for nzi, dzi in zip(nzs_s, dz)]\n",
    "    \n",
    "    # Define IA model, z0 is fixed\n",
    "    b_ia = jc.bias.des_y1_ia_bias(A, eta, 0.62)\n",
    "\n",
    "    # Bias for the lenses\n",
    "    b = [jc.bias.constant_linear_bias(bi) for bi in bias] \n",
    "    \n",
    "    # Define the lensing and number counts probe\n",
    "    probes = [jc.probes.WeakLensing(nzs_s_sys, \n",
    "                                    ia_bias=b_ia,\n",
    "                                    multiplicative_bias=m),\n",
    "             jc.probes.NumberCounts(nzs_l, b)]\n",
    "\n",
    "    cl, C = jc.angular_cl.gaussian_cl_covariance_and_mean(cosmo, ell, probes, \n",
    "                                                          f_sky=0.25, sparse=True)\n",
    "    \n",
    "    P = jc.sparse.to_dense(jc.sparse.inv(C))\n",
    "    C = jc.sparse.to_dense(C)\n",
    "    return cl, P, C"
   ]
  },
  {
   "cell_type": "code",
   "execution_count": 4,
   "metadata": {},
   "outputs": [
    {
     "name": "stderr",
     "output_type": "stream",
     "text": [
      "/local/home/flanusse/.local/lib/python3.8/site-packages/jax/_src/numpy/lax_numpy.py:6576: UserWarning: Explicitly requested dtype <class 'jax._src.numpy.lax_numpy.int64'> requested in astype is not available, and will be truncated to dtype int32. To enable more dtypes, set the jax_enable_x64 configuration option or the JAX_ENABLE_X64 shell environment variable. See https://github.com/google/jax#current-gotchas for more.\n",
      "  lax._check_user_dtype_supported(dtype, \"astype\")\n"
     ]
    }
   ],
   "source": [
    "from numpyro.handlers import seed, trace, condition\n",
    "# So, let's generate the data at the fiducial parameters\n",
    "fiducial_model = condition(model,\n",
    "    {'Omega_c':0.2545, 'sigma8':0.801, 'h':0.682, 'Omega_b':0.0485, 'w0':-1.,'n_s':0.971,\n",
    "     'A':0.5,'eta':0.,\n",
    "     'm1':0.0,'m2':0.0,'m3':0.0,'m4':0.0,\n",
    "     'dz1':0.0,'dz2':0.0,'dz3':0.0,'dz4':0.0,\n",
    "     'b1':1.2,'b2':1.4,'b3':1.6,'b4':1.8,'b5':2.0\n",
    "      })\n",
    "\n",
    "with seed(rng_seed=42):\n",
    "    data, P, C = fiducial_model()"
   ]
  },
  {
   "cell_type": "code",
   "execution_count": 5,
   "metadata": {},
   "outputs": [
    {
     "data": {
      "image/png": "[encoded data removed]",
      "text/plain": [
       "<Figure size 432x288 with 1 Axes>"
      ]
     },
     "metadata": {
      "needs_background": "light"
     },
     "output_type": "display_data"
    }
   ],
   "source": [
    "# This is our fake data vector\n",
    "semilogy(data);"
   ]
  },
  {
   "cell_type": "code",
   "execution_count": 6,
   "metadata": {},
   "outputs": [],
   "source": [
    "from numpyro.distributions.transforms import AffineTransform\n",
    "\n",
    "def Uniform(name, min_value, max_value):\n",
    "    \"\"\" Creates a Uniform distribution in target range from a base\n",
    "    distribution between [-5, 5]\n",
    "    \"\"\"\n",
    "    s = (max_value - min_value) / 10.\n",
    "    return numpyro.sample(\n",
    "            name,\n",
    "            dist.TransformedDistribution(\n",
    "                dist.Uniform(-5., 5.),\n",
    "                AffineTransform(min_value + 5.*s, s),\n",
    "            ),\n",
    "        )"
   ]
  },
  {
   "cell_type": "code",
   "execution_count": 7,
   "metadata": {},
   "outputs": [],
   "source": [
    "# Let's define our model using numpyro\n",
    "# Papier https://arxiv.org/pdf/1708.01530.pdf  and desy1.py\n",
    "def model():\n",
    "    #  Cosmological params\n",
    "    Omega_c = Uniform('Omega_c', 0.1, 0.9)\n",
    "    sigma8 = Uniform('sigma8', 0.4, 1.0)\n",
    "    Omega_b = Uniform('Omega_b', 0.03, 0.07)\n",
    "    h = Uniform('h',0.55, 0.91)\n",
    "    n_s = Uniform('n_s', 0.87, 1.07)\n",
    "    w0 = Uniform('w0', -2.0, -0.33)\n",
    "\n",
    "    # Intrinsic Alignment\n",
    "    A = Uniform('A', -5., 5.)\n",
    "    eta = Uniform('eta', -5., 5.)\n",
    "\n",
    "    # linear galaxy bias\n",
    "    bias = [Uniform('b%d'%i, 0.8, 3.0)\n",
    "         for i in range(1,6)]\n",
    "        \n",
    "    # parameters for systematics\n",
    "    m = [numpyro.sample('m%d'%i, dist.Normal(0.012, 0.023)) \n",
    "         for i in range(1,5)]\n",
    "    dz1 = numpyro.sample('dz1', dist.Normal(0.001, 0.016)) \n",
    "    dz2 = numpyro.sample('dz2', dist.Normal(-0.019, 0.013)) \n",
    "    dz3 = numpyro.sample('dz3', dist.Normal(0.009, 0.011)) \n",
    "    dz4 = numpyro.sample('dz4', dist.Normal(-0.018, 0.022)) \n",
    "    dz = [dz1, dz2, dz3, dz4]\n",
    "    \n",
    "    # Now that params are defined, here is the forward model\n",
    "    cosmo = jc.Cosmology(Omega_c=Omega_c, sigma8=sigma8, Omega_b=Omega_b,\n",
    "                          h=h, n_s=n_s, w0=w0, Omega_k=0., wa=0.)\n",
    "    \n",
    "    # Build source nz with redshift systematic bias\n",
    "    nzs_s_sys = [jc.redshift.systematic_shift(nzi, dzi, zmax=2.0) \n",
    "                for nzi, dzi in zip(nzs_s, dz)]\n",
    "    \n",
    "    # Define IA model, z0 is fixed\n",
    "    b_ia = jc.bias.des_y1_ia_bias(A, eta, 0.62)\n",
    "\n",
    "    # Bias for the lenses\n",
    "    b = [jc.bias.constant_linear_bias(bi) for bi in bias] \n",
    "    \n",
    "    # Define the lensing and number counts probe\n",
    "    probes = [jc.probes.WeakLensing(nzs_s_sys, \n",
    "                                    ia_bias=b_ia,\n",
    "                                    multiplicative_bias=m),\n",
    "             jc.probes.NumberCounts(nzs_l, b)]\n",
    "\n",
    "    cl = jc.angular_cl.angular_cl(cosmo, ell, probes).flatten()\n",
    "    \n",
    "    return numpyro.sample('cl', dist.MultivariateNormal(cl, \n",
    "                                                        precision_matrix=P,\n",
    "                                                        covariance_matrix=C))"
   ]
  },
  {
   "cell_type": "code",
   "execution_count": 8,
   "metadata": {},
   "outputs": [],
   "source": [
    "# Now we condition the model on obervations\n",
    "observed_model = condition(model, {'cl': data})"
   ]
  },
  {
   "cell_type": "code",
   "execution_count": 9,
   "metadata": {},
   "outputs": [],
   "source": [
    "from numpyro.infer.reparam import LocScaleReparam, TransformReparam\n",
    "\n",
    "def config(x):\n",
    "    if type(x['fn']) is dist.TransformedDistribution:\n",
    "        return TransformReparam()\n",
    "    elif type(x['fn']) is dist.Normal and ('decentered' not in x['name']):\n",
    "        return LocScaleReparam(centered=0)\n",
    "    else:\n",
    "        return None\n",
    "\n",
    "observed_model_reparam = numpyro.handlers.reparam(observed_model, config=config)"
   ]
  },
  {
   "cell_type": "code",
   "execution_count": 10,
   "metadata": {},
   "outputs": [],
   "source": [
    "nuts_kernel = numpyro.infer.NUTS(observed_model_reparam,\n",
    "                                 step_size=1e-3, \n",
    "                                 init_strategy=numpyro.infer.init_to_median,\n",
    "                                 max_tree_depth=7,\n",
    "                                 dense_mass=[(\"Omega_c_base\", \"Omega_b_base\", \"sigma8_base\", \"h_base\", \"w0_base\"), \n",
    "                                             (\"n_s_base\",), (\"A_base\",), (\"eta_base\",), \n",
    "                                             (\"b1_base\", \"b2_base\", \"b3_base\", \"b4_base\", \"b5_base\",),\n",
    "                                             (\"dz1_decentered\",), ('dz2_decentered',), ('dz3_decentered',), ('dz4_decentered',),\n",
    "                                             (\"m1_decentered\",), ('m2_decentered',), ('m3_decentered',), ('m4_decentered',)])"
   ]
  },
  {
   "cell_type": "code",
   "execution_count": 11,
   "metadata": {},
   "outputs": [],
   "source": [
    "mcmc = numpyro.infer.MCMC(nuts_kernel, \n",
    "                          num_warmup=200, \n",
    "                          num_samples=1000,\n",
    "                          num_chains=16,\n",
    "                          chain_method='vectorized',\n",
    "                          progress_bar=False)"
   ]
  },
  {
   "cell_type": "code",
   "execution_count": 12,
   "metadata": {},
   "outputs": [
    {
     "name": "stderr",
     "output_type": "stream",
     "text": [
      "/local/home/flanusse/.local/lib/python3.8/site-packages/jax/_src/numpy/lax_numpy.py:6576: UserWarning: Explicitly requested dtype <class 'jax._src.numpy.lax_numpy.int64'> requested in astype is not available, and will be truncated to dtype int32. To enable more dtypes, set the jax_enable_x64 configuration option or the JAX_ENABLE_X64 shell environment variable. See https://github.com/google/jax#current-gotchas for more.\n",
      "  lax._check_user_dtype_supported(dtype, \"astype\")\n",
      "/local/home/flanusse/.local/lib/python3.8/site-packages/jax/_src/numpy/lax_numpy.py:6576: UserWarning: Explicitly requested dtype <class 'jax._src.numpy.lax_numpy.int64'> requested in astype is not available, and will be truncated to dtype int32. To enable more dtypes, set the jax_enable_x64 configuration option or the JAX_ENABLE_X64 shell environment variable. See https://github.com/google/jax#current-gotchas for more.\n",
      "  lax._check_user_dtype_supported(dtype, \"astype\")\n",
      "/local/home/flanusse/.local/lib/python3.8/site-packages/jax/_src/numpy/lax_numpy.py:6576: UserWarning: Explicitly requested dtype <class 'jax._src.numpy.lax_numpy.int64'> requested in astype is not available, and will be truncated to dtype int32. To enable more dtypes, set the jax_enable_x64 configuration option or the JAX_ENABLE_X64 shell environment variable. See https://github.com/google/jax#current-gotchas for more.\n",
      "  lax._check_user_dtype_supported(dtype, \"astype\")\n",
      "/local/home/flanusse/.local/lib/python3.8/site-packages/jax/_src/numpy/lax_numpy.py:6576: UserWarning: Explicitly requested dtype <class 'jax._src.numpy.lax_numpy.int64'> requested in astype is not available, and will be truncated to dtype int32. To enable more dtypes, set the jax_enable_x64 configuration option or the JAX_ENABLE_X64 shell environment variable. See https://github.com/google/jax#current-gotchas for more.\n",
      "  lax._check_user_dtype_supported(dtype, \"astype\")\n"
     ]
    }
   ],
   "source": [
    "# This takes about 4h on a TitanXp GPU\n",
    "mcmc.run(jax.random.PRNGKey(42))"
   ]
  },
  {
   "cell_type": "code",
   "execution_count": 13,
   "metadata": {},
   "outputs": [],
   "source": [
    "import pickle\n",
    "with open('state_2.pckl', 'wb') as f:\n",
    "    pickle.dump(mcmc.last_state,f )"
   ]
  },
  {
   "cell_type": "code",
   "execution_count": 14,
   "metadata": {},
   "outputs": [
    {
     "name": "stdout",
     "output_type": "stream",
     "text": [
      "\n",
      "                      mean       std    median      5.0%     95.0%     n_eff     r_hat\n",
      "          A_base      0.48      0.05      0.48      0.39      0.57  11162.98      1.00\n",
      "    Omega_b_base     -0.36      1.43     -0.35     -2.60      2.11   8240.76      1.00\n",
      "    Omega_c_base     -3.11      0.13     -3.11     -3.31     -2.88   7925.49      1.00\n",
      "         b1_base     -3.17      0.07     -3.17     -3.28     -3.06   7557.49      1.00\n",
      "         b2_base     -2.26      0.08     -2.26     -2.40     -2.12   7913.49      1.00\n",
      "         b3_base     -1.35      0.10     -1.35     -1.51     -1.18   7798.90      1.00\n",
      "         b4_base     -0.43      0.12     -0.43     -0.63     -0.24   7670.21      1.00\n",
      "         b5_base      0.48      0.14      0.48      0.25      0.69   7550.42      1.00\n",
      "  dz1_decentered     -0.31      0.61     -0.32     -1.30      0.70   6981.36      1.00\n",
      "  dz2_decentered      1.05      0.51      1.06      0.19      1.89   7673.32      1.00\n",
      "  dz3_decentered     -0.79      0.53     -0.80     -1.68      0.04   9329.29      1.00\n",
      "  dz4_decentered      0.71      0.38      0.71      0.05      1.31   8871.71      1.00\n",
      "        eta_base      0.38      1.11      0.36     -1.42      2.23   7395.68      1.00\n",
      "          h_base     -1.06      1.10     -1.12     -2.80      0.77   8315.29      1.00\n",
      "   m1_decentered     -0.01      0.91     -0.01     -1.53      1.46  15176.42      1.00\n",
      "   m2_decentered      0.22      0.77      0.21     -1.02      1.49   9433.94      1.00\n",
      "   m3_decentered     -0.22      0.64     -0.22     -1.25      0.86   7422.53      1.00\n",
      "   m4_decentered     -0.10      0.64     -0.10     -1.14      0.95   6971.08      1.00\n",
      "        n_s_base      0.09      0.68      0.09     -1.02      1.23   8032.64      1.00\n",
      "     sigma8_base      1.67      0.19      1.67      1.37      1.99   6285.90      1.00\n",
      "         w0_base      0.96      0.42      0.97      0.30      1.68   6286.33      1.00\n",
      "\n",
      "Number of divergences: 0\n"
     ]
    }
   ],
   "source": [
    "mcmc.print_summary()"
   ]
  },
  {
   "cell_type": "code",
   "execution_count": null,
   "metadata": {},
   "outputs": [],
   "source": []
  }
 ],
 "metadata": {
  "kernelspec": {
   "display_name": "Python 3",
   "language": "python",
   "name": "python3"
  },
  "language_info": {
   "codemirror_mode": {
    "name": "ipython",
    "version": 3
   },
   "file_extension": ".py",
   "mimetype": "text/x-python",
   "name": "python",
   "nbconvert_exporter": "python",
   "pygments_lexer": "ipython3",
   "version": "3.8.8"
  }
 },
 "nbformat": 4,
 "nbformat_minor": 4
}
